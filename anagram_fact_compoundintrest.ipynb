{
 "cells": [
  {
   "cell_type": "code",
   "execution_count": 20,
   "id": "98484053-1d6d-4370-9af7-55762543e83a",
   "metadata": {},
   "outputs": [
    {
     "name": "stdin",
     "output_type": "stream",
     "text": [
      "Enter input string :  labl\n"
     ]
    },
    {
     "name": "stdout",
     "output_type": "stream",
     "text": [
      "{'b': 1, 'a': 1, 'l': 2}\n",
      "{'l': 2, 'a': 1, 'b': 1}\n",
      "It is anagram\n"
     ]
    }
   ],
   "source": [
    "#/// Given strings are anagrams are not ///\n",
    "l=\"ball\";\n",
    "x=input(\"Enter input string : \");\n",
    "c={};\n",
    "s={};\n",
    "for i in l:\n",
    "    v=l.count(i);\n",
    "    if i not in c:\n",
    "        c[i]=v;\n",
    "for j in x:\n",
    "    b=x.count(j);\n",
    "    if j not in s:\n",
    "        s[j]=b;\n",
    "print(c);\n",
    "print(s);\n",
    "if c.items()==s.items():\n",
    "    print(\"It is anagram\");\n",
    "else:\n",
    "    print(\"It is not an anagram\");\n"
   ]
  },
  {
   "cell_type": "code",
   "execution_count": 11,
   "id": "c3e67a7f-0fbc-4fcd-8168-4317865f40d9",
   "metadata": {},
   "outputs": [
    {
     "name": "stdin",
     "output_type": "stream",
     "text": [
      "Enter a number :  6\n"
     ]
    },
    {
     "name": "stdout",
     "output_type": "stream",
     "text": [
      "Factorial of a number  6  is : 720\n"
     ]
    }
   ],
   "source": [
    "# Factorial of a number\n",
    "\n",
    "def factorial(x):\n",
    "    if(x==0 or x==1):\n",
    "        return 1;\n",
    "    else:\n",
    "        return (x*factorial(x-1));\n",
    "\n",
    "num=int(input(\"Enter a number : \"));\n",
    "print(\"Factorial of a number \",num ,\" is :\",factorial(num));\n",
    "    \n",
    "        "
   ]
  },
  {
   "cell_type": "code",
   "execution_count": 18,
   "id": "251ec1a5-8de9-442c-bce0-1165254b56e5",
   "metadata": {},
   "outputs": [
    {
     "name": "stdin",
     "output_type": "stream",
     "text": [
      "Enter amount :  2000\n",
      "Enter rate : 5\n",
      "Enter duration :  2\n"
     ]
    },
    {
     "name": "stdout",
     "output_type": "stream",
     "text": [
      "The total amount :  2205.0\n"
     ]
    }
   ],
   "source": [
    "#compound interest \n",
    "\n",
    "def compound(principle,rate,time):\n",
    "    if time<=0:\n",
    "        return principle;\n",
    "    else:\n",
    "        amount=principle+(principle*rate/100);\n",
    "        return compound(amount,rate,time-1);\n",
    "    \n",
    "am=int(input(\"Enter amount : \"));\n",
    "r=float(input(\"Enter rate :\"));\n",
    "ti=float(input(\"Enter duration : \"));\n",
    "print(\"The total amount : \",compound(am,r,ti));\n"
   ]
  },
  {
   "cell_type": "code",
   "execution_count": null,
   "id": "136cc0eb-8d65-4fb2-a55f-6a3afe030b0b",
   "metadata": {},
   "outputs": [],
   "source": []
  }
 ],
 "metadata": {
  "kernelspec": {
   "display_name": "Python 3 (ipykernel)",
   "language": "python",
   "name": "python3"
  },
  "language_info": {
   "codemirror_mode": {
    "name": "ipython",
    "version": 3
   },
   "file_extension": ".py",
   "mimetype": "text/x-python",
   "name": "python",
   "nbconvert_exporter": "python",
   "pygments_lexer": "ipython3",
   "version": "3.9.7"
  }
 },
 "nbformat": 4,
 "nbformat_minor": 5
}
